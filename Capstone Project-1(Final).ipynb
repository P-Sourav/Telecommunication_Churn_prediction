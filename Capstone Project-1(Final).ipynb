{
 "cells": [
  {
   "cell_type": "markdown",
   "id": "82dc62fc",
   "metadata": {},
   "source": [
    "# Telecommunication Churn Prediction Model\n",
    "## Importing all the important libraries"
   ]
  },
  {
   "cell_type": "code",
   "execution_count": null,
   "id": "07a31e2e",
   "metadata": {},
   "outputs": [],
   "source": [
    "import pandas as pd \n",
    "import numpy as np      \n",
    "import seaborn as sns                 \n",
    "import matplotlib.pyplot as plt       \n",
    "%matplotlib inline \n",
    "#pip install plotly\n",
    "import plotly.express as px\n",
    "plt.rcParams.update(plt.rcParamsDefault)\n",
    "\n",
    "import warnings  \n",
    "warnings.filterwarnings(\"ignore\")"
   ]
  },
  {
   "cell_type": "markdown",
   "id": "ca234a97",
   "metadata": {},
   "source": [
    "## loading the dataset"
   ]
  },
  {
   "cell_type": "code",
   "execution_count": null,
   "id": "c9def1cc",
   "metadata": {},
   "outputs": [],
   "source": [
    "data=pd.read_csv(\"data_summer_course.csv\")\n",
    "pd.set_option('display.max_columns', None)\n",
    "data.head(3)"
   ]
  },
  {
   "cell_type": "code",
   "execution_count": null,
   "id": "9eb653bb",
   "metadata": {},
   "outputs": [],
   "source": [
    "data.shape"
   ]
  },
  {
   "cell_type": "code",
   "execution_count": null,
   "id": "19c9ebe5",
   "metadata": {},
   "outputs": [],
   "source": [
    "data.columns.values"
   ]
  },
  {
   "cell_type": "code",
   "execution_count": null,
   "id": "664a47f8",
   "metadata": {},
   "outputs": [],
   "source": [
    "data.dtypes"
   ]
  },
  {
   "cell_type": "code",
   "execution_count": null,
   "id": "0482ae33",
   "metadata": {},
   "outputs": [],
   "source": [
    "data.isnull().sum()"
   ]
  },
  {
   "cell_type": "code",
   "execution_count": null,
   "id": "5b671ef4",
   "metadata": {},
   "outputs": [],
   "source": [
    "data.describe()"
   ]
  },
  {
   "cell_type": "markdown",
   "id": "7d6c6d05",
   "metadata": {},
   "source": [
    "## Data Preprocessing\n",
    "### Handling the missing values and drop the columns"
   ]
  },
  {
   "cell_type": "code",
   "execution_count": null,
   "id": "cb8eaffc",
   "metadata": {
    "scrolled": true
   },
   "outputs": [],
   "source": [
    "# How many columns have most Null values in percentage.  \n",
    "percent_of_null_values = (data.isnull().sum()/ data.shape[0]) *100\n",
    "print(percent_of_null_values)"
   ]
  },
  {
   "cell_type": "code",
   "execution_count": null,
   "id": "a99cb108",
   "metadata": {},
   "outputs": [],
   "source": [
    "correlation_matrix = data.corr()\n",
    "plt.figure(figsize=(10, 8))\n",
    "sns.heatmap(correlation_matrix, annot=True, cmap='coolwarm', fmt=\".2f\")\n",
    "plt.title(\"Correlation Matrix Heatmap\")\n",
    "plt.show()"
   ]
  },
  {
   "cell_type": "code",
   "execution_count": null,
   "id": "18241659",
   "metadata": {},
   "outputs": [],
   "source": [
    "data['SUMDATAUSG4GCD1_30'] = data['SUMDATAUSG4GCD1_15'] + data['SUMDATAUSG4GCD15_30']\n",
    "\n",
    "column1 = 'SUMDATAUSG4GCD1_30'\n",
    "column2 =  'SUMDATAUSGCD1_30'\n",
    "correlation1 = data[column1].corr(data[column2])\n",
    "print(correlation1)"
   ]
  },
  {
   "cell_type": "code",
   "execution_count": null,
   "id": "38448582",
   "metadata": {},
   "outputs": [],
   "source": [
    "column_name = ['SUMDATAUSG4GCD1_30', 'SUMDATAUSG4GCD1_15' , 'SUMDATAUSG4GCD15_30']\n",
    "data.drop(columns=column_name, inplace=True)"
   ]
  },
  {
   "cell_type": "code",
   "execution_count": null,
   "id": "57f025fd",
   "metadata": {},
   "outputs": [],
   "source": [
    "column1 = 'MAINACTBAL1'\n",
    "column2 = 'MAINACTBAL'\n",
    "column3 =  'SUBSRIBERLASTBALANCE'\n",
    "correlation1 = data[column1].corr(data[column3])\n",
    "# Computed the correlation between the two columns \n",
    "correlation2 = data[column1].corr(data[column2])\n",
    "print(correlation1, correlation2)"
   ]
  },
  {
   "cell_type": "code",
   "execution_count": null,
   "id": "26b5d4f8",
   "metadata": {},
   "outputs": [],
   "source": [
    "columns_name = ['MAINACTBAL1','SUBSRIBERLASTBALANCE']\n",
    "data.drop(columns=columns_name, inplace=True)\n",
    "data.info()"
   ]
  },
  {
   "cell_type": "code",
   "execution_count": null,
   "id": "d55c55c3",
   "metadata": {},
   "outputs": [],
   "source": [
    "missing_numerical_var = ['SUMVCEREVCD1_30', 'SUMDATAREVCD1_30','SUMDATAUSGCD1_30', 'SUMVOICEUSGCD1_30']\n",
    "plt.figure(figsize=(10,10))\n",
    "sns.set()\n",
    "\n",
    "for i, var in enumerate(missing_numerical_var):\n",
    "    plt.subplot(2,2,i+1)\n",
    "    sns.distplot(data[var], bins=50, kde_kws={'linewidth':2, 'color':'#DC143C'})\n",
    "plt.show()    "
   ]
  },
  {
   "cell_type": "code",
   "execution_count": null,
   "id": "cc0f9928",
   "metadata": {},
   "outputs": [],
   "source": [
    "# Numerical column\n",
    "# Filling the null values or empty cell with mean value\n",
    "copy_data_mean = data.copy();\n",
    "copy_data_median = data.copy();\n",
    "\n",
    "pp = data[missing_numerical_var].describe()\n",
    "print(pp)\n",
    "# In Null values we are entering the mean value.\n",
    "for column in missing_numerical_var:\n",
    "    copy_data_mean[column] = copy_data_mean[column].fillna(copy_data_mean[column].mean())\n",
    "    \n",
    "#In null values we are filling the median values\n",
    "for column in missing_numerical_var:\n",
    "    copy_data_median[column] = copy_data_median[column].fillna(copy_data_median[column].median())"
   ]
  },
  {
   "cell_type": "code",
   "execution_count": null,
   "id": "5df4c946",
   "metadata": {},
   "outputs": [],
   "source": [
    "'''plt.figure(figsize=(10,10))\n",
    "sns.get()\n",
    "for i, var in enumerate(missing_numerical_var):\n",
    "    plt.subplot(2,2,i+1)\n",
    "    sns.distplot(data[var], bins=50, kde_kws={'linewidth':2, 'color':'red'}, label = 'original')\n",
    "    sns.distplot(copy_data_mean[var], bins=50, kde_kws={'linewidth':2, 'color':'green'}, label ='mean')\n",
    "    sns.distplot(copy_data_median[var], bins=50, kde_kws={'linewidth':2, 'color':'purple'}, label = 'median')\n",
    "    plt.legend()  \n",
    "plt.show()   ''' "
   ]
  },
  {
   "cell_type": "code",
   "execution_count": null,
   "id": "21d05046",
   "metadata": {},
   "outputs": [],
   "source": [
    "data = copy_data_median.copy()"
   ]
  },
  {
   "cell_type": "code",
   "execution_count": null,
   "id": "7131506a",
   "metadata": {},
   "outputs": [],
   "source": [
    "#columns has been stored in this DataFrame 'deleted_columns' for later use if needed\n",
    "dup_data = data.copy()\n",
    "columns_to_extract = ['DEVICEDUALSIMFLAG', 'DEVICEMODELC', 'DEVICENETWORK','last_app_used','FIRSTCALLDATE', 'Mobile_Number', 'FIRSTREVGENEVTDATE']\n",
    "deleted_columns = data[columns_to_extract].copy()\n",
    "data.drop(columns=columns_to_extract, inplace=True)"
   ]
  },
  {
   "cell_type": "code",
   "execution_count": null,
   "id": "c17973f1",
   "metadata": {},
   "outputs": [],
   "source": [
    "\n",
    "data['LASTVCEUSGDATE'] = pd.to_datetime(data['LASTVCEUSGDATE'])  \n",
    "mode_date = data['LASTVCEUSGDATE'].mode()[0] \n",
    "data['LASTVCEUSGDATE'].fillna(mode_date, inplace=True)\n",
    "\n",
    "data['LASTRECHRGDATE'] = pd.to_datetime(data['LASTRECHRGDATE']) \n",
    "mode_date = data['LASTRECHRGDATE'].mode()[0] \n",
    "data['LASTRECHRGDATE'].fillna(mode_date, inplace=True)\n",
    "\n",
    "data['LASTREVGENEVTDATE'] = pd.to_datetime(data['LASTREVGENEVTDATE'])"
   ]
  },
  {
   "cell_type": "code",
   "execution_count": null,
   "id": "6325ed64",
   "metadata": {},
   "outputs": [],
   "source": [
    "data['HANDSETCHANGESFLAGD1_30'].value_counts()"
   ]
  },
  {
   "cell_type": "code",
   "execution_count": null,
   "id": "7cf22bff",
   "metadata": {},
   "outputs": [],
   "source": [
    "column_name = 'HANDSETCHANGESFLAGD1_30'\n",
    "\n",
    "# Fill the missing (NaN) values in the column with 0\n",
    "data[column_name].fillna(0, inplace=True)"
   ]
  },
  {
   "cell_type": "code",
   "execution_count": null,
   "id": "10fa0325",
   "metadata": {},
   "outputs": [],
   "source": [
    "data['CHURN_PREDICTION'] = data['CNTCHURND1_30'].apply(lambda x: 1 if pd.notnull(x) else 0)"
   ]
  },
  {
   "cell_type": "code",
   "execution_count": null,
   "id": "b7d755a7",
   "metadata": {},
   "outputs": [],
   "source": [
    "# churn has been stored in this series for later use: churn_deleted_col\n",
    "churn_deleted_col = data['CNTCHURND1_30']\n",
    "data['CNTCHURND1_30'].fillna(0, inplace=True)"
   ]
  },
  {
   "cell_type": "code",
   "execution_count": null,
   "id": "0535fb44",
   "metadata": {},
   "outputs": [],
   "source": [
    "data.rename(columns={'CNTCHURND1_30': 'CNTCHURN_FLAG'}, inplace=True)"
   ]
  },
  {
   "cell_type": "code",
   "execution_count": null,
   "id": "4aecf501",
   "metadata": {},
   "outputs": [],
   "source": [
    "data.info()"
   ]
  },
  {
   "cell_type": "code",
   "execution_count": null,
   "id": "d4811467",
   "metadata": {
    "scrolled": true
   },
   "outputs": [],
   "source": [
    "correlation_matrix = data.corr()\n",
    "plt.figure(figsize=(10, 8))\n",
    "sns.heatmap(correlation_matrix, annot=True, cmap='coolwarm', fmt=\".2f\")\n",
    "plt.title(\"Correlation Matrix Heatmap\")\n",
    "plt.show()"
   ]
  },
  {
   "cell_type": "code",
   "execution_count": null,
   "id": "462c3255",
   "metadata": {},
   "outputs": [],
   "source": [
    "data['CNTCHURN_FLAG'].isnull().sum()"
   ]
  },
  {
   "cell_type": "code",
   "execution_count": null,
   "id": "84fc804e",
   "metadata": {},
   "outputs": [],
   "source": [
    "fig = plt.figure(figsize=(12, 6)) \n",
    "ax = fig.add_subplot(111)\n",
    "prop_response = data['CNTCHURN_FLAG'].value_counts(normalize=True)\n",
    "\n",
    "# create a bar plot showing the proportion of churning customers in next 30 days\n",
    "\n",
    "prop_response.plot(kind='bar',ax=ax, color=['darkorange'])\n",
    "ax.set_title('Proportion of observations of the response variable',fontsize=18, loc='left')\n",
    "ax.set_xlabel('Churning days ',fontsize=14)\n",
    "ax.set_ylabel('proportion of observations of churn in next 30 days',fontsize=14)\n",
    "ax.tick_params(rotation='auto')\n",
    "\n",
    "# eliminate the frame from the plot\n",
    "\n",
    "s_names = ('top', 'right', 'bottom', 'left')\n",
    "for spine_name in s_names:\n",
    "    ax.spines[spine_name].set_visible(False)\n",
    "plt.show()    "
   ]
  },
  {
   "cell_type": "code",
   "execution_count": null,
   "id": "a7191160",
   "metadata": {},
   "outputs": [],
   "source": [
    "pie_data = data['CHURN_PREDICTION'].value_counts()\n",
    "pie_data.plot(kind='pie', autopct='%1.1f%%', startangle=90)\n",
    "\n",
    "# Add title and label for better visualization\n",
    "plt.title('Pie Chart of COLUMN_NAME')\n",
    "plt.ylabel('') \n",
    "# Show the plot\n",
    "plt.show()\n"
   ]
  },
  {
   "cell_type": "code",
   "execution_count": null,
   "id": "a531e461",
   "metadata": {},
   "outputs": [],
   "source": [
    "pie_data = data['CNTCHURN_FLAG'].value_counts()\n",
    "pie_data.plot(kind='pie', autopct='%1.1f%%', startangle=90)\n",
    "\n",
    "# Add title and label for better visualization\n",
    "plt.title('Pie Chart of COLUMN_NAME')\n",
    "plt.ylabel('') \n",
    "# Show the plot\n",
    "plt.show()\n"
   ]
  },
  {
   "cell_type": "code",
   "execution_count": null,
   "id": "5b490cfa",
   "metadata": {},
   "outputs": [],
   "source": [
    "df = data.copy()\n",
    "df.info()"
   ]
  },
  {
   "cell_type": "markdown",
   "id": "e5fa24d5",
   "metadata": {},
   "source": [
    "# Feature Engineering"
   ]
  },
  {
   "cell_type": "code",
   "execution_count": null,
   "id": "cd7060ce",
   "metadata": {},
   "outputs": [],
   "source": [
    "# 1. Date Features\n",
    "\n",
    "date_columns = ['LASTVCEUSGDATE', 'LASTRECHRGDATE', 'LASTREVGENEVTDATE']\n",
    "\n",
    "# 2. Age on Network\n",
    "def age_group(age):\n",
    "    if age <= 180:  # 0-6 months\n",
    "        return '0-6 months'\n",
    "    elif age <= 365:  # 6-12 months\n",
    "        return '6-12 months'\n",
    "    elif age <= 730:  # 1-2 years\n",
    "        return '1-2 years'\n",
    "    else:\n",
    "        return '2+ years'\n",
    "\n",
    "df['AGEONNETWORK_group'] = df['AGEONNETWORK'].apply(age_group)\n",
    "\n",
    "# 3. Usage Ratio\n",
    "df['USAGE_RATIO'] = df['SUMDATAREVCD1_30'] / df['SUMVCEREVCD1_30']\n",
    "\n",
    "# 4. Total Revenue\n",
    "df['TOTAL_REVENUE'] = df['SUMVCEREVCD1_30'] + df['SUMDATAREVCD1_30'] + df['ARPUD1_30']\n",
    "\n",
    "# 5. Interaction Features\n",
    "df['DATA_USAGE_IMPACT'] = df['SUMDATAREVCD1_30'] * df['SUMDATAUSGCD1_30']\n",
    "\n",
    "# 6. Time Since Last Event\n",
    "current_date = pd.to_datetime('today')\n",
    "\n",
    "for column in date_columns:\n",
    "    df[column + '_since'] = (current_date - df[column]).dt.days\n",
    "\n",
    "# 7. Usage Percentiles\n",
    "usage_columns = ['SUMDATAREVCD1_30', 'SUMDATAUSGCD1_30', 'SUMVCEREVCD1_30', 'SUMVOICEUSGCD1_30']\n",
    "\n",
    "for column in usage_columns:\n",
    "    df[column + '_percentile'] = df[column].rank(pct=True)\n",
    "\n",
    "# Now, 'df' contains the dataset with the new engineered features."
   ]
  },
  {
   "cell_type": "markdown",
   "id": "4e40a9bf",
   "metadata": {},
   "source": [
    "# EDA"
   ]
  },
  {
   "cell_type": "markdown",
   "id": "8b21842b",
   "metadata": {},
   "source": [
    "## Univariate Analysis"
   ]
  },
  {
   "cell_type": "code",
   "execution_count": null,
   "id": "f666b0f1",
   "metadata": {
    "scrolled": true
   },
   "outputs": [],
   "source": [
    "df.info()"
   ]
  },
  {
   "cell_type": "code",
   "execution_count": null,
   "id": "1ea2282d",
   "metadata": {
    "scrolled": false
   },
   "outputs": [],
   "source": [
    "df.columns"
   ]
  },
  {
   "cell_type": "code",
   "execution_count": null,
   "id": "adceeeab",
   "metadata": {},
   "outputs": [],
   "source": [
    "numeric_columns = ['MAINACTBAL', 'ARPUD1_30', 'SUMVCEREVCD1_30', 'SUMDATAREVCD1_30',\n",
    "                   'SUMDATAUSGCD1_30', 'SUMVOICEUSGCD1_30','TOTAL_REVENUE',\n",
    "                   'DATA_USAGE_IMPACT','LASTVCEUSGDATE_since', 'LASTRECHRGDATE_since','LASTREVGENEVTDATE_since', 'SUMDATAREVCD1_30_percentile',\n",
    "                   'SUMDATAUSGCD1_30_percentile', 'SUMVCEREVCD1_30_percentile','SUMVOICEUSGCD1_30_percentile']\n",
    "categorical_columns = ['DEVICETYPE', 'ISDEVICE3GENABLED', 'VASSUBSCRIBERFLAG', 'ISDEVICEDATAENABLED',\n",
    "                        'AGEONNETWORK_group','SMARTPHONEFLAG','HANDSETCHANGESFLAGD1_30','CUSTSEGMENT']"
   ]
  },
  {
   "cell_type": "code",
   "execution_count": null,
   "id": "31e6310f",
   "metadata": {},
   "outputs": [],
   "source": [
    "for column in numeric_columns:\n",
    "    plt.figure(figsize=(8, 5))\n",
    "    sns.histplot(df[column], bins=20, kde=True)\n",
    "    plt.title(f'Distribution of {column}')\n",
    "    plt.xlabel(column)\n",
    "    plt.ylabel('Frequency')\n",
    "    plt.show()"
   ]
  },
  {
   "cell_type": "code",
   "execution_count": null,
   "id": "93c53f7b",
   "metadata": {},
   "outputs": [],
   "source": [
    "# Step 3: Univariate Analysis - Categorical Features\n",
    "'''for i, column in enumerate(categorical_columns, 1):\n",
    "    plt.figure(figsize=(5, 3))\n",
    "    sns.countplot(df[column])\n",
    "    plt.title(column)\n",
    "\n",
    "plt.tight_layout()\n",
    "plt.show()'''"
   ]
  },
  {
   "cell_type": "markdown",
   "id": "2f80c1d2",
   "metadata": {},
   "source": [
    "## Bivariate Analysis"
   ]
  },
  {
   "cell_type": "code",
   "execution_count": null,
   "id": "96f7e883",
   "metadata": {},
   "outputs": [],
   "source": [
    "# Step 4: Bivariate Analysis - Churn vs. Numeric Features\n",
    "for i, column in enumerate(numeric_columns, 1):\n",
    "    plt.figure(figsize=(8, 5))\n",
    "    sns.boxplot(x='CNTCHURN_FLAG', y=column, data=df)\n",
    "    plt.title(f'Churn vs. {column}')\n",
    "\n",
    "plt.tight_layout()\n",
    "plt.show()\n",
    "\n"
   ]
  },
  {
   "cell_type": "code",
   "execution_count": null,
   "id": "0caf21ee",
   "metadata": {
    "scrolled": false
   },
   "outputs": [],
   "source": [
    "# Step 5: Bivariate Analysis - Churn vs. Categorical Features\n",
    "for i, column in enumerate(categorical_columns, 1):\n",
    "    plt.figure(figsize=(8, 5))\n",
    "    sns.countplot(x=column, hue='CNTCHURN_FLAG', data=df)\n",
    "    plt.title(f'Churn vs. {column}')\n",
    "\n",
    "plt.tight_layout()\n",
    "plt.show()\n"
   ]
  },
  {
   "cell_type": "code",
   "execution_count": null,
   "id": "7bbbc92d",
   "metadata": {},
   "outputs": [],
   "source": [
    "for column in categorical_columns:\n",
    "    plt.figure(figsize=(10, 5))\n",
    "    sns.countplot(data=df, x=column, hue='CHURN_PREDICTION')\n",
    "    plt.title(f'Distribution of {column} by Churn')\n",
    "    plt.xlabel(column)\n",
    "    plt.ylabel('Count')\n",
    "    plt.xticks(rotation=45)\n",
    "    plt.legend(title='Churn Prediction', labels=['Non-Churn', 'Churn'])\n",
    "    plt.show()\n"
   ]
  },
  {
   "cell_type": "code",
   "execution_count": null,
   "id": "b828ee5c",
   "metadata": {},
   "outputs": [],
   "source": [
    "plt.figure(figsize=(15, 8))\n",
    "sns.boxplot(data=df[numeric_columns])\n",
    "plt.title('Boxplot of Numerical Features')\n",
    "plt.xticks(rotation=45)\n",
    "plt.show()\n"
   ]
  },
  {
   "cell_type": "code",
   "execution_count": null,
   "id": "31628270",
   "metadata": {},
   "outputs": [],
   "source": [
    "\n",
    "# Step 6: Correlation Matrix\n",
    "correlation_matrix = df.corr()\n",
    "plt.figure(figsize=(20, 15))\n",
    "sns.heatmap(correlation_matrix, annot=True, cmap='coolwarm', fmt=\".2f\")\n",
    "plt.title('Correlation Matrix')\n",
    "plt.show()"
   ]
  },
  {
   "cell_type": "code",
   "execution_count": null,
   "id": "41076d8d",
   "metadata": {},
   "outputs": [],
   "source": [
    "'''sns.pairplot(df[numeric_columns])\n",
    "plt.suptitle('Pair Plot of Numerical Features')\n",
    "plt.tight_layout()\n",
    "plt.show()'''"
   ]
  },
  {
   "cell_type": "code",
   "execution_count": null,
   "id": "9020308d",
   "metadata": {},
   "outputs": [],
   "source": [
    "df.drop(columns=date_columns,inplace=True)"
   ]
  },
  {
   "cell_type": "code",
   "execution_count": null,
   "id": "2bbb1558",
   "metadata": {},
   "outputs": [],
   "source": [
    "print(df)"
   ]
  },
  {
   "cell_type": "code",
   "execution_count": null,
   "id": "70919657",
   "metadata": {},
   "outputs": [],
   "source": [
    "df.info()"
   ]
  },
  {
   "cell_type": "code",
   "execution_count": null,
   "id": "6aa5fd07",
   "metadata": {},
   "outputs": [],
   "source": [
    "df.to_csv('new_data.csv', index=False)"
   ]
  },
  {
   "cell_type": "markdown",
   "id": "f30bceef",
   "metadata": {},
   "source": [
    "# Changing the object types to numerical"
   ]
  },
  {
   "cell_type": "code",
   "execution_count": null,
   "id": "5baf23a9",
   "metadata": {},
   "outputs": [],
   "source": [
    "final_copy=df.copy()\n",
    "final_copy.drop(columns=['SUMDATAREVCD1_30_percentile','SUMDATAUSGCD1_30_percentile','SUMVCEREVCD1_30_percentile','SUMVOICEUSGCD1_30_percentile'],inplace=True)\n",
    "# Changing the column containing Y & N to 0 & 1\n"
   ]
  },
  {
   "cell_type": "code",
   "execution_count": null,
   "id": "5c977d34",
   "metadata": {},
   "outputs": [],
   "source": [
    "columns_having_yn=['ISDEVICE3GENABLED','VASSUBSCRIBERFLAG','ISDEVICEDATAENABLED','SMARTPHONEFLAG']\n",
    "mapping = {'Y': 1, 'N': 0}\n",
    "\n",
    "# Loop through each column and use the map function to convert the values\n",
    "for col in columns_having_yn:\n",
    "    final_copy[col] = final_copy[col].map(mapping)"
   ]
  },
  {
   "cell_type": "code",
   "execution_count": null,
   "id": "9aa911e2",
   "metadata": {},
   "outputs": [],
   "source": [
    "final_copy.drop(columns='USAGE_RATIO',inplace=True)"
   ]
  },
  {
   "cell_type": "code",
   "execution_count": null,
   "id": "f55fdece",
   "metadata": {
    "scrolled": true
   },
   "outputs": [],
   "source": [
    "# changing AGEONNETWORK_group to '0-6 months'->1, '6-12 months'->2,   '1-2 years'->3,\n",
    "#'1-2 years'->4, '2+ years'->5\n",
    "final_copy.drop(columns='AGEONNETWORK',inplace=True)"
   ]
  },
  {
   "cell_type": "code",
   "execution_count": null,
   "id": "418e9b0c",
   "metadata": {},
   "outputs": [],
   "source": [
    "mapping={'0-6 months':1, '6-12 months':2, '1-2 years':3, '2+ years':4}\n",
    "final_copy['AGEONNETWORK_group']=final_copy['AGEONNETWORK_group'].map(mapping)"
   ]
  },
  {
   "cell_type": "code",
   "execution_count": null,
   "id": "624fee64",
   "metadata": {},
   "outputs": [],
   "source": [
    "mapping={'None':0, 'Basic':1,   'Silver':2,'Gold':3, 'Platinum':4,'Signature':5}\n",
    "final_copy['CUSTSEGMENT']=final_copy['CUSTSEGMENT'].map(mapping)"
   ]
  },
  {
   "cell_type": "code",
   "execution_count": null,
   "id": "f4194ef1",
   "metadata": {},
   "outputs": [],
   "source": [
    "mapping={'Feature +':2,'Smartphone':1,'Voice Centric':0}\n",
    "final_copy['DEVICETYPE']=final_copy['DEVICETYPE'].map(mapping)"
   ]
  },
  {
   "cell_type": "code",
   "execution_count": null,
   "id": "252375e1",
   "metadata": {},
   "outputs": [],
   "source": [
    "final_copy.info()"
   ]
  },
  {
   "cell_type": "code",
   "execution_count": null,
   "id": "b7657c7e",
   "metadata": {},
   "outputs": [],
   "source": [
    "df_x=final_copy.copy()"
   ]
  },
  {
   "cell_type": "code",
   "execution_count": null,
   "id": "a9506143",
   "metadata": {},
   "outputs": [],
   "source": [
    "X = df_x.drop(columns=['CNTCHURN_FLAG','CHURN_PREDICTION'])\n",
    "\n",
    "# select dependent variables\n",
    "y1 = df_x.loc[:,'CHURN_PREDICTION']\n",
    "y2 = df_x.loc[:,'CNTCHURN_FLAG']\n",
    "\n",
    "# prove that the variables were selected correctly\n",
    "print(X.columns)\n",
    "\n",
    "# prove that the variables were selected correctly\n",
    "print(y1.name)\n",
    "print(y2.name)"
   ]
  },
  {
   "cell_type": "code",
   "execution_count": null,
   "id": "262b1e46",
   "metadata": {},
   "outputs": [],
   "source": [
    "from sklearn.model_selection import train_test_split\n",
    "X_train, X_test, y_train, y_test = train_test_split(X, y1, test_size=0.25, random_state=0, shuffle=True)"
   ]
  },
  {
   "cell_type": "markdown",
   "id": "d5dac229",
   "metadata": {},
   "source": [
    "# Trying Multiple Models\n",
    "### Logistic Regression\n",
    "### Random Forest\n",
    "### Gradiente Boosting"
   ]
  },
  {
   "cell_type": "code",
   "execution_count": null,
   "id": "8e873011",
   "metadata": {},
   "outputs": [],
   "source": [
    "from sklearn.neighbors import KNeighborsClassifier\n",
    "from sklearn.linear_model import LogisticRegression\n",
    "from sklearn.ensemble import RandomForestClassifier\n",
    "from sklearn.ensemble import GradientBoostingClassifier\n",
    "def create_models(seed=1):\n",
    "    models = []\n",
    "    models.append(('logistic_regression', LogisticRegression(random_state=seed)))\n",
    "    models.append(('random_forest', RandomForestClassifier(random_state=seed)))\n",
    "    models.append(('gradient_boosting', GradientBoostingClassifier(random_state=seed)))    \n",
    "    return models\n",
    "models = create_models()"
   ]
  },
  {
   "cell_type": "markdown",
   "id": "d8e5a2ce",
   "metadata": {},
   "source": [
    "## Testing the result of each model "
   ]
  },
  {
   "cell_type": "code",
   "execution_count": null,
   "id": "7433356e",
   "metadata": {},
   "outputs": [],
   "source": [
    "from sklearn.metrics import accuracy_score\n",
    "results = []\n",
    "names = []\n",
    "#scoring = 'accuracy'\n",
    "for name, model in models:\n",
    "    # fit the model with the training data\n",
    "    model.fit(X_train, y_train).predict(X_test)\n",
    "    # make predictions with the testing data\n",
    "    predictions = model.predict(X_test)\n",
    "    # calculate accuracy \n",
    "    accuracy = accuracy_score(y_test, predictions)\n",
    "    # append the model name and the accuracy to the lists\n",
    "    results.append(accuracy)\n",
    "    names.append(name)\n",
    "    # print classifier accuracy\n",
    "    print('Classifier: {}, Accuracy: {})'.format(name, accuracy))"
   ]
  }
 ],
 "metadata": {
  "kernelspec": {
   "display_name": "Python 3 (ipykernel)",
   "language": "python",
   "name": "python3"
  },
  "language_info": {
   "codemirror_mode": {
    "name": "ipython",
    "version": 3
   },
   "file_extension": ".py",
   "mimetype": "text/x-python",
   "name": "python",
   "nbconvert_exporter": "python",
   "pygments_lexer": "ipython3",
   "version": "3.10.9"
  }
 },
 "nbformat": 4,
 "nbformat_minor": 5
}
